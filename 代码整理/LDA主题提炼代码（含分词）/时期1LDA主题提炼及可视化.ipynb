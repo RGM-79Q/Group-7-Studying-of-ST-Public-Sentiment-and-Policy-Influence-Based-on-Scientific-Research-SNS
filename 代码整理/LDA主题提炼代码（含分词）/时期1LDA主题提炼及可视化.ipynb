{
 "cells": [
  {
   "cell_type": "code",
   "execution_count": 1,
   "metadata": {},
   "outputs": [
    {
     "name": "stdout",
     "output_type": "stream",
     "text": [
      "                                       content\n",
      "0         “不是我们技术能力强”而是“我们敢违背伦理底线”才第一个研究出这种婴儿的\n",
      "1                           拿人做活体实验的事，有嘛可宣扬的呢？\n",
      "2  这项工程在美国是禁止的，事关伦理和人性，在没有法律规定下应该谨慎，而不是大张旗鼓宣传。\n",
      "3           未报备就做这种实验，可以考虑将这个医院和负责人终身禁止进入医学领域了\n",
      "4                                       潘多拉的魔盒\n",
      "1233\n"
     ]
    }
   ],
   "source": [
    "import pandas as pd\n",
    "import jieba\n",
    "from sklearn.feature_extraction.text import TfidfVectorizer,CountVectorizer\n",
    "from sklearn.decomposition import LatentDirichletAllocation\n",
    "import pyLDAvis\n",
    "import pyLDAvis.sklearn\n",
    "import re                                #正则表达式，可用于匹配中文文本\n",
    "import collections\n",
    "import matplotlib.pyplot as plt\n",
    "\n",
    "\n",
    "df = pd.read_csv(\"一级评论1.csv\", encoding='utf-8') \n",
    "\n",
    "\n",
    "print(df.head())\n",
    "print(len(df))\n",
    "\n"
   ]
  },
  {
   "cell_type": "code",
   "execution_count": 2,
   "metadata": {},
   "outputs": [
    {
     "name": "stdout",
     "output_type": "stream",
     "text": [
      "1233\n"
     ]
    }
   ],
   "source": [
    "df = df.dropna() #去除空值所在的整条(行)数据\n",
    "print(len(df))"
   ]
  },
  {
   "cell_type": "code",
   "execution_count": 3,
   "metadata": {},
   "outputs": [],
   "source": [
    "# 创建停用词list\n",
    "def stopwordslist(filepath):\n",
    "    stopwords = [line.strip()for line in open(filepath,'r',encoding='utf-8').readlines()]\n",
    "    return stopwords\n"
   ]
  },
  {
   "cell_type": "code",
   "execution_count": 4,
   "metadata": {},
   "outputs": [],
   "source": [
    "# 对句子去除停用词\n",
    "def movestopwords(sentence):\n",
    "    stopwords = stopwordslist('scu_stopwords.txt')\n",
    "    outstr = ''\n",
    "    for word in sentence:\n",
    "        if word not in stopwords:\n",
    "            if word != '\\t'and'\\n':\n",
    "                outstr += word \n",
    "                #outstr += \"\"\n",
    "    return outstr\n"
   ]
  },
  {
   "cell_type": "code",
   "execution_count": 5,
   "metadata": {},
   "outputs": [],
   "source": [
    "# 分词函数\n",
    "def chinese_word_cut(mytext):\n",
    "    import jieba.posseg as psg\n",
    "    checkarr = ['n']\n",
    "    returnmsg = ''.join([(x.word) for x in psg.cut(mytext) if (x.flag in checkarr)])\n",
    "    return returnmsg\n",
    "\n"
   ]
  },
  {
   "cell_type": "code",
   "execution_count": 6,
   "metadata": {},
   "outputs": [
    {
     "name": "stderr",
     "output_type": "stream",
     "text": [
      "Building prefix dict from the default dictionary ...\n",
      "Loading model from cache C:\\Users\\ADMINI~1\\AppData\\Local\\Temp\\jieba.cache\n",
      "Loading model cost 0.728 seconds.\n",
      "Prefix dict has been built succesfully.\n"
     ]
    },
    {
     "name": "stdout",
     "output_type": "stream",
     "text": [
      "0           技术能力底线婴儿\n",
      "1               人活体事\n",
      "2         工程事关人性法律规定\n",
      "3          医院负责人医学领域\n",
      "4                 魔盒\n",
      "            ...     \n",
      "1228                \n",
      "1229    后果魔盒社有钱人世界人生\n",
      "1230                \n",
      "1231            狗屁制度\n",
      "1232                \n",
      "Name: content, Length: 1233, dtype: object\n"
     ]
    }
   ],
   "source": [
    " # 分词结果  \n",
    "df = df.content.apply(chinese_word_cut)\n",
    "ff = df.apply(movestopwords)\n",
    "ff = ff.dropna()\n",
    "\n",
    "print(ff) #预览"
   ]
  },
  {
   "cell_type": "code",
   "execution_count": 7,
   "metadata": {},
   "outputs": [
    {
     "name": "stdout",
     "output_type": "stream",
     "text": [
      "[('人', 18), ('人类', 13), ('科学', 9), ('底线', 9), ('魔盒', 8), ('孩子', 7), ('评论', 6), ('事', 6), ('科学家', 6)]\n"
     ]
    }
   ],
   "source": [
    "word_counts = collections.Counter(ff) # 对分词做词频统计\n",
    "\n",
    "word_counts_top10 = word_counts.most_common(11) # 获取前11最高频的词\n",
    "\n",
    "word_counts_top10 = word_counts_top10[1:10]\n",
    "print (word_counts_top10) "
   ]
  },
  {
   "cell_type": "code",
   "execution_count": 8,
   "metadata": {},
   "outputs": [
    {
     "data": {
      "image/png": "[encoded data removed]",
      "text/plain": [
       "<Figure size 432x288 with 1 Axes>"
      ]
     },
     "metadata": {
      "needs_background": "light"
     },
     "output_type": "display_data"
    }
   ],
   "source": [
    "from pylab import *\n",
    "mpl.rcParams['font.sans-serif']=['SimHei']\n",
    "\n",
    "wa=dict(word_counts_top10)\n",
    "plt.bar(wa.keys(),wa.values())\n",
    "plt.xticks(rotation=90)\n",
    "plt.show()"
   ]
  },
  {
   "cell_type": "code",
   "execution_count": 9,
   "metadata": {},
   "outputs": [],
   "source": [
    "#从文件导入停用词表\n",
    "stpwrdpath = \"scu_stopwords.txt\"\n",
    "stpwrd_dic = open(stpwrdpath, 'rb')\n",
    "stpwrd_content = stpwrd_dic.read().decode('utf-8')#将停用词表转换为list\n",
    "stpwrdlst = stpwrd_content.splitlines()\n",
    "stpwrd_dic.close()\n",
    "\n"
   ]
  },
  {
   "cell_type": "code",
   "execution_count": 10,
   "metadata": {
    "scrolled": false
   },
   "outputs": [
    {
     "name": "stdout",
     "output_type": "stream",
     "text": [
      "  (4, 18)\t1\n",
      "  (28, 14)\t1\n",
      "  (101, 18)\t1\n",
      "  (123, 14)\t1\n",
      "  (135, 6)\t1\n",
      "  (146, 6)\t1\n",
      "  (180, 14)\t1\n",
      "  (187, 0)\t1\n",
      "  (194, 10)\t1\n",
      "  (195, 1)\t1\n",
      "  (210, 9)\t1\n",
      "  (218, 17)\t1\n",
      "  (223, 3)\t1\n",
      "  (243, 7)\t1\n",
      "  (244, 6)\t1\n",
      "  (260, 17)\t1\n",
      "  (270, 1)\t1\n",
      "  (279, 18)\t1\n",
      "  (291, 3)\t1\n",
      "  (304, 17)\t1\n",
      "  (311, 3)\t1\n",
      "  (312, 5)\t1\n",
      "  (315, 14)\t1\n",
      "  (327, 2)\t1\n",
      "  (341, 18)\t1\n",
      "  :\t:\n",
      "  (969, 14)\t1\n",
      "  (973, 18)\t1\n",
      "  (974, 6)\t1\n",
      "  (982, 3)\t1\n",
      "  (1001, 7)\t1\n",
      "  (1009, 7)\t1\n",
      "  (1054, 10)\t1\n",
      "  (1059, 0)\t1\n",
      "  (1071, 8)\t1\n",
      "  (1076, 18)\t1\n",
      "  (1079, 14)\t1\n",
      "  (1108, 17)\t1\n",
      "  (1113, 15)\t1\n",
      "  (1114, 12)\t1\n",
      "  (1128, 11)\t1\n",
      "  (1132, 3)\t1\n",
      "  (1138, 7)\t1\n",
      "  (1143, 4)\t1\n",
      "  (1158, 13)\t1\n",
      "  (1164, 2)\t1\n",
      "  (1165, 11)\t1\n",
      "  (1166, 16)\t1\n",
      "  (1181, 0)\t1\n",
      "  (1202, 16)\t1\n",
      "  (1217, 7)\t1\n",
      "\n",
      "vocabulary list:\n",
      "\n",
      " ['事情', '人伦', '人性', '人类', '基因', '好事坏事', '孩子', '底线', '感觉', '技术', '有点', '毒液', '活体', '真假', '科学', '科学家', '科技', '评论', '魔盒']\n",
      "\n",
      "vocabulary dic :\n",
      "\n",
      " {'魔盒': 18, '科学': 14, '孩子': 6, '事情': 0, '有点': 10, '人伦': 1, '技术': 9, '评论': 17, '人类': 3, '底线': 7, '好事坏事': 5, '人性': 2, '活体': 12, '科学家': 15, '基因': 4, '毒液': 11, '真假': 13, '感觉': 8, '科技': 16}\n"
     ]
    }
   ],
   "source": [
    "# 调用sklearn机器学习包进行向量化\n",
    "n_features = 1000 # 指定特征关键词提取最大值\n",
    "tf_vectorizer = CountVectorizer(strip_accents='unicode',# 去除raw document中的重音符号\n",
    "    max_features=n_features,#stop_words='english', # 停用词\n",
    "    stop_words=stpwrdlst,\n",
    "    max_df=0.5, # 阈值如果某个词的document frequence大于max_df，不当作关键词.float，词出现的次数与语料库文档数的百分比，int出现次数\n",
    "    min_df=3) # 如果某个词的document frequence小于min_df，则这个词不会被当作关键词\n",
    "\n",
    "\n",
    "tf = tf_vectorizer.fit_transform(df)\n",
    "print(tf)\n",
    "print('\\nvocabulary list:\\n\\n',tf_vectorizer.get_feature_names())\n",
    "print( '\\nvocabulary dic :\\n\\n',tf_vectorizer.vocabulary_)"
   ]
  },
  {
   "cell_type": "code",
   "execution_count": 11,
   "metadata": {},
   "outputs": [
    {
     "data": {
      "text/plain": [
       "LatentDirichletAllocation(batch_size=128, doc_topic_prior=None,\n",
       "                          evaluate_every=-1, learning_decay=0.7,\n",
       "                          learning_method='online', learning_offset=10.0,\n",
       "                          max_doc_update_iter=100, max_iter=50,\n",
       "                          mean_change_tol=0.001, n_components=5, n_jobs=None,\n",
       "                          perp_tol=0.1, random_state=0, topic_word_prior=None,\n",
       "                          total_samples=1000000.0, verbose=0)"
      ]
     },
     "execution_count": 11,
     "metadata": {},
     "output_type": "execute_result"
    }
   ],
   "source": [
    "# LDA操作\n",
    "n_topics = 5 # 人为指定划分的主题数\n",
    "lda = LatentDirichletAllocation(n_topics,learning_method='online',max_iter=50,random_state=0 )\n",
    "lda.fit(tf)\n"
   ]
  },
  {
   "cell_type": "code",
   "execution_count": 12,
   "metadata": {
    "scrolled": true
   },
   "outputs": [
    {
     "name": "stdout",
     "output_type": "stream",
     "text": [
      "\n",
      "Topic Nr.1:\n",
      "科学 8.8 | 科技 6.33 | 评论 5.89 | 事情 4.69 | 感觉 4.08 | 真假 0.2 | 好事坏事 0.2 | 底线 0.2 | 基因 0.2 | 人性 0.2 | \n",
      "\n",
      "Topic Nr.2:\n",
      "孩子 6.91 | 技术 4.97 | 人伦 3.0 | 感觉 0.2 | 科技 0.2 | 事情 0.2 | 评论 0.2 | 科学 0.2 | 真假 0.2 | 好事坏事 0.2 | \n",
      "\n",
      "Topic Nr.3:\n",
      "科学家 5.99 | 有点 5.01 | 毒液 4.73 | 人性 3.69 | 基因 3.12 | 感觉 0.2 | 事情 0.2 | 科技 0.2 | 评论 0.2 | 科学 0.2 | \n",
      "\n",
      "Topic Nr.4:\n",
      "人类 12.64 | 活体 4.09 | 感觉 0.2 | 科技 0.2 | 事情 0.2 | 评论 0.2 | 科学 0.2 | 真假 0.2 | 好事坏事 0.2 | 基因 0.2 | \n",
      "\n",
      "Topic Nr.5:\n",
      "底线 9.64 | 魔盒 7.85 | 真假 3.74 | 好事坏事 3.11 | 感觉 0.2 | 科技 0.2 | 事情 0.2 | 评论 0.2 | 科学 0.2 | 基因 0.2 | \n"
     ]
    }
   ],
   "source": [
    "# 显示主题关键词函数\n",
    "def print_top_words(model, feature_names, n_top_words):\n",
    "    for topic_idx, topic in enumerate(model.components_):\n",
    "        print('\\nTopic Nr.%d:' % int(topic_idx + 1))\n",
    "        print(''.join([feature_names[i] + ' ' + str(round(topic[i], 2)) + ' | ' for i in topic.argsort()[:-n_top_words - 1:-1]]))\n",
    "n_top_words = 10 # 主题输出前20个关键词\n",
    "tf_feature_names = tf_vectorizer.get_feature_names()\n",
    "print_top_words(lda, tf_feature_names, n_top_words)\n",
    "\n",
    "\n"
   ]
  },
  {
   "cell_type": "code",
   "execution_count": null,
   "metadata": {
    "scrolled": true
   },
   "outputs": [
    {
     "name": "stdout",
     "output_type": "stream",
     "text": [
      "\n",
      "Note: if you're in the IPython notebook, pyLDAvis.show() is not the best command\n",
      "      to use. Consider using pyLDAvis.display(), or pyLDAvis.enable_notebook().\n",
      "      See more information at http://pyLDAvis.github.io/quickstart.html .\n",
      "\n",
      "You must interrupt the kernel to end this command\n",
      "\n",
      "Serving to http://127.0.0.1:8889/    [Ctrl-C to exit]\n"
     ]
    },
    {
     "name": "stderr",
     "output_type": "stream",
     "text": [
      "127.0.0.1 - - [30/Jun/2020 22:08:44] \"GET / HTTP/1.1\" 200 -\n",
      "127.0.0.1 - - [30/Jun/2020 22:08:44] \"GET /LDAvis.css HTTP/1.1\" 200 -\n",
      "127.0.0.1 - - [30/Jun/2020 22:08:44] \"GET /d3.js HTTP/1.1\" 200 -\n",
      "127.0.0.1 - - [30/Jun/2020 22:08:44] \"GET /LDAvis.js HTTP/1.1\" 200 -\n"
     ]
    }
   ],
   "source": [
    "import pyLDAvis\n",
    "import pyLDAvis.gensim\n",
    "\n",
    "data = pyLDAvis.sklearn.prepare(lda,tf,tf_vectorizer)\n",
    "\n",
    "#让可视化可以在notebook内显示\n",
    "pyLDAvis.show(data)\n"
   ]
  }
 ],
 "metadata": {
  "kernelspec": {
   "display_name": "Python 3",
   "language": "python",
   "name": "python3"
  },
  "language_info": {
   "codemirror_mode": {
    "name": "ipython",
    "version": 3
   },
   "file_extension": ".py",
   "mimetype": "text/x-python",
   "name": "python",
   "nbconvert_exporter": "python",
   "pygments_lexer": "ipython3",
   "version": "3.7.6"
  }
 },
 "nbformat": 4,
 "nbformat_minor": 4
}
