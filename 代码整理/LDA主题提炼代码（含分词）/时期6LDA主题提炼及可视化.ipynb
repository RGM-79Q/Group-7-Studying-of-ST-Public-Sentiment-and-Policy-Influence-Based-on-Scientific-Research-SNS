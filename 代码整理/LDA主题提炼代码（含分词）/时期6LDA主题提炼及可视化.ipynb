{
 "cells": [
  {
   "cell_type": "code",
   "execution_count": 1,
   "metadata": {},
   "outputs": [
    {
     "name": "stdout",
     "output_type": "stream",
     "text": [
      "                content\n",
      "0             想知道婴儿怎么办？\n",
      "1         婴儿怎么办受害者怎么办？？\n",
      "2        希望保护好这三个婴儿的隐私。\n",
      "3  有一说一，去年高三生物可没少受这些人祸害\n",
      "4         算不算潘多拉魔盒已经打开了\n",
      "2264\n"
     ]
    }
   ],
   "source": [
    "import pandas as pd\n",
    "import jieba\n",
    "from sklearn.feature_extraction.text import TfidfVectorizer,CountVectorizer\n",
    "from sklearn.decomposition import LatentDirichletAllocation\n",
    "import pyLDAvis\n",
    "import pyLDAvis.sklearn\n",
    "import re                                #正则表达式，可用于匹配中文文本\n",
    "import collections\n",
    "import matplotlib.pyplot as plt\n",
    "\n",
    "df = pd.read_csv(\"一级评论6.csv\", encoding='utf-8') \n",
    "\n",
    "\n",
    "print(df.head())\n",
    "print(len(df))\n",
    "\n"
   ]
  },
  {
   "cell_type": "code",
   "execution_count": 2,
   "metadata": {},
   "outputs": [
    {
     "name": "stdout",
     "output_type": "stream",
     "text": [
      "2264\n"
     ]
    }
   ],
   "source": [
    "df = df.dropna() #去除空值所在的整条(行)数据\n",
    "print(len(df))"
   ]
  },
  {
   "cell_type": "code",
   "execution_count": 3,
   "metadata": {},
   "outputs": [],
   "source": [
    "# 创建停用词list\n",
    "def stopwordslist(filepath):\n",
    "    stopwords = [line.strip()for line in open(filepath,'r',encoding='utf-8').readlines()]\n",
    "    return stopwords\n"
   ]
  },
  {
   "cell_type": "code",
   "execution_count": 4,
   "metadata": {},
   "outputs": [],
   "source": [
    "# 对句子去除停用词\n",
    "def movestopwords(sentence):\n",
    "    stopwords = stopwordslist('scu_stopwords.txt')\n",
    "    outstr = ''\n",
    "    for word in sentence:\n",
    "        if word not in stopwords:\n",
    "            if word != '\\t'and'\\n':\n",
    "                outstr += word # outstr += \" \"\n",
    "    return outstr\n"
   ]
  },
  {
   "cell_type": "code",
   "execution_count": 5,
   "metadata": {},
   "outputs": [],
   "source": [
    "# 分词函数\n",
    "def chinese_word_cut(mytext):\n",
    "    import jieba.posseg as psg\n",
    "    checkarr = ['n']\n",
    "    returnmsg = \"\".join([(x.word) for x in psg.cut(mytext) if (x.flag in checkarr)])\n",
    "    return returnmsg\n",
    "\n"
   ]
  },
  {
   "cell_type": "code",
   "execution_count": 6,
   "metadata": {},
   "outputs": [
    {
     "name": "stderr",
     "output_type": "stream",
     "text": [
      "Building prefix dict from the default dictionary ...\n",
      "Loading model from cache C:\\Users\\ADMINI~1\\AppData\\Local\\Temp\\jieba.cache\n",
      "Loading model cost 0.769 seconds.\n",
      "Prefix dict has been built succesfully.\n"
     ]
    },
    {
     "name": "stdout",
     "output_type": "stream",
     "text": [
      "0          婴儿\n",
      "1       婴儿受害者\n",
      "2          婴儿\n",
      "3       生物人祸害\n",
      "4          魔盒\n",
      "        ...  \n",
      "2259       婴儿\n",
      "2260      关键信\n",
      "2261       小孩\n",
      "2262         \n",
      "2263         \n",
      "Name: content, Length: 2264, dtype: object\n"
     ]
    }
   ],
   "source": [
    " # 分词结果  \n",
    "df = df.content.apply(chinese_word_cut)\n",
    "ff = df.apply(movestopwords)\n",
    "ff = ff.dropna()\n",
    "\n",
    "print(ff) #预览"
   ]
  },
  {
   "cell_type": "code",
   "execution_count": 7,
   "metadata": {},
   "outputs": [
    {
     "name": "stdout",
     "output_type": "stream",
     "text": [
      "[('婴儿', 71), ('孩子', 62), ('人', 26), ('人类', 21), ('基因编辑', 9), ('感觉', 9), ('事情', 8), ('基因编辑婴儿', 7), ('科学家', 7)]\n"
     ]
    }
   ],
   "source": [
    "word_counts = collections.Counter(ff) # 对分词做词频统计\n",
    "\n",
    "word_counts_top10 = word_counts.most_common(11) # 获取前11最高频的词\n",
    "\n",
    "word_counts_top10 = word_counts_top10[1:10]\n",
    "print (word_counts_top10) "
   ]
  },
  {
   "cell_type": "code",
   "execution_count": 8,
   "metadata": {},
   "outputs": [
    {
     "data": {
      "image/png": "[encoded data removed]",
      "text/plain": [
       "<Figure size 432x288 with 1 Axes>"
      ]
     },
     "metadata": {
      "needs_background": "light"
     },
     "output_type": "display_data"
    }
   ],
   "source": [
    "from pylab import *\n",
    "mpl.rcParams['font.sans-serif']=['SimHei']\n",
    "\n",
    "wa=dict(word_counts_top10)\n",
    "plt.bar(wa.keys(),wa.values())\n",
    "plt.xticks(rotation=90)\n",
    "plt.show()"
   ]
  },
  {
   "cell_type": "code",
   "execution_count": 9,
   "metadata": {},
   "outputs": [],
   "source": [
    "#从文件导入停用词表\n",
    "stpwrdpath = \"scu_stopwords.txt\"\n",
    "stpwrd_dic = open(stpwrdpath, 'rb')\n",
    "stpwrd_content = stpwrd_dic.read().decode('utf-8')#将停用词表转换为list\n",
    "stpwrdlst = stpwrd_content.splitlines()\n",
    "stpwrd_dic.close()\n",
    "\n"
   ]
  },
  {
   "cell_type": "code",
   "execution_count": 10,
   "metadata": {
    "scrolled": false
   },
   "outputs": [
    {
     "name": "stdout",
     "output_type": "stream",
     "text": [
      "  (0, 16)\t1\n",
      "  (1, 18)\t1\n",
      "  (2, 16)\t1\n",
      "  (4, 45)\t1\n",
      "  (7, 17)\t1\n",
      "  (8, 16)\t1\n",
      "  (9, 38)\t1\n",
      "  (11, 7)\t1\n",
      "  (21, 22)\t1\n",
      "  (24, 23)\t1\n",
      "  (25, 16)\t1\n",
      "  (28, 45)\t1\n",
      "  (29, 16)\t1\n",
      "  (31, 28)\t1\n",
      "  (36, 7)\t1\n",
      "  (46, 16)\t1\n",
      "  (48, 27)\t1\n",
      "  (55, 20)\t1\n",
      "  (69, 23)\t1\n",
      "  (90, 4)\t1\n",
      "  (98, 16)\t1\n",
      "  (100, 20)\t1\n",
      "  (107, 12)\t1\n",
      "  (141, 20)\t1\n",
      "  (143, 0)\t1\n",
      "  :\t:\n",
      "  (2127, 12)\t1\n",
      "  (2132, 20)\t1\n",
      "  (2135, 41)\t1\n",
      "  (2136, 2)\t1\n",
      "  (2150, 16)\t1\n",
      "  (2180, 23)\t1\n",
      "  (2187, 16)\t1\n",
      "  (2198, 23)\t1\n",
      "  (2200, 20)\t1\n",
      "  (2201, 33)\t1\n",
      "  (2204, 20)\t1\n",
      "  (2208, 16)\t1\n",
      "  (2211, 16)\t1\n",
      "  (2212, 20)\t1\n",
      "  (2219, 6)\t1\n",
      "  (2220, 16)\t1\n",
      "  (2223, 16)\t1\n",
      "  (2234, 20)\t1\n",
      "  (2241, 38)\t1\n",
      "  (2246, 8)\t1\n",
      "  (2251, 20)\t1\n",
      "  (2253, 16)\t1\n",
      "  (2258, 16)\t1\n",
      "  (2259, 16)\t1\n",
      "  (2261, 22)\t1\n",
      "\n",
      "vocabulary list:\n",
      "\n",
      " ['事情', '事结果', '人伦', '人类', '人类人类', '人类基因', '代价', '医生', '受害者', '啥意思', '国家', '基因', '基因编辑', '基因编辑婴儿', '基因编辑意思', '太轻', '婴儿', '婴儿人权', '婴儿受害者', '婴儿无辜', '孩子', '孩子父母', '小孩', '底线', '建议', '意思', '感觉', '感觉有点', '成本', '技术', '教授', '有点', '电影', '疯子', '科学', '科学家', '科幻片', '科技', '科研底线', '细思', '能力', '行医', '行医基因编辑婴儿案被告人基因编辑婴儿案一审', '行医罪', '评论', '魔盒']\n",
      "\n",
      "vocabulary dic :\n",
      "\n",
      " {'婴儿': 16, '婴儿受害者': 18, '魔盒': 45, '婴儿人权': 17, '科研底线': 38, '医生': 7, '小孩': 22, '底线': 23, '成本': 28, '感觉有点': 27, '孩子': 20, '人类人类': 4, '基因编辑': 12, '事情': 0, '感觉': 26, '太轻': 15, '人类': 3, '基因编辑婴儿': 13, '国家': 10, '行医基因编辑婴儿案被告人基因编辑婴儿案一审': 42, '啥意思': 9, '评论': 44, '婴儿无辜': 19, '科幻片': 36, '事结果': 1, '受害者': 8, '教授': 30, '科学': 34, '代价': 6, '科学家': 35, '疯子': 33, '人类基因': 5, '电影': 32, '行医': 41, '有点': 31, '孩子父母': 21, '建议': 24, '基因编辑意思': 14, '意思': 25, '能力': 40, '技术': 29, '细思': 39, '人伦': 2, '科技': 37, '基因': 11, '行医罪': 43}\n"
     ]
    }
   ],
   "source": [
    "# 调用sklearn机器学习包进行向量化\n",
    "n_features = 1000 # 指定特征关键词提取最大值\n",
    "tf_vectorizer = CountVectorizer(strip_accents='unicode',# 去除raw document中的重音符号\n",
    "    max_features=n_features,#stop_words='english', # 停用词\n",
    "    stop_words=stpwrdlst,\n",
    "    max_df=0.5, # 阈值如果某个词的document frequence大于max_df，不当作关键词.float，词出现的次数与语料库文档数的百分比，int出现次数\n",
    "    min_df=3) # 如果某个词的document frequence小于min_df，则这个词不会被当作关键词\n",
    "\n",
    "\n",
    "tf = tf_vectorizer.fit_transform(df)\n",
    "print(tf)\n",
    "print('\\nvocabulary list:\\n\\n',tf_vectorizer.get_feature_names())\n",
    "print( '\\nvocabulary dic :\\n\\n',tf_vectorizer.vocabulary_)"
   ]
  },
  {
   "cell_type": "code",
   "execution_count": 11,
   "metadata": {},
   "outputs": [
    {
     "data": {
      "text/plain": [
       "LatentDirichletAllocation(batch_size=128, doc_topic_prior=None,\n",
       "                          evaluate_every=-1, learning_decay=0.7,\n",
       "                          learning_method='online', learning_offset=10.0,\n",
       "                          max_doc_update_iter=100, max_iter=50,\n",
       "                          mean_change_tol=0.001, n_components=5, n_jobs=None,\n",
       "                          perp_tol=0.1, random_state=0, topic_word_prior=None,\n",
       "                          total_samples=1000000.0, verbose=0)"
      ]
     },
     "execution_count": 11,
     "metadata": {},
     "output_type": "execute_result"
    }
   ],
   "source": [
    "# LDA操作\n",
    "n_topics = 5 # 人为指定划分的主题数\n",
    "lda = LatentDirichletAllocation(n_topics,learning_method='online',max_iter=50,random_state=0 )\n",
    "lda.fit(tf)\n"
   ]
  },
  {
   "cell_type": "code",
   "execution_count": 12,
   "metadata": {},
   "outputs": [
    {
     "name": "stdout",
     "output_type": "stream",
     "text": [
      "\n",
      "Topic Nr.1:\n",
      "孩子 63.88 | 医生 5.92 | 婴儿人权 3.18 | 事结果 3.08 | 人类人类 0.2 | 底线 0.2 | 成本 0.2 | 婴儿 0.2 | 科技 0.2 | 基因 0.2 | \n",
      "\n",
      "Topic Nr.2:\n",
      "人类 20.69 | 感觉 9.08 | 事情 7.93 | 基因编辑婴儿 6.93 | 基因 4.31 | 科技 3.26 | 意思 3.19 | 技术 3.19 | 基因编辑意思 3.17 | 太轻 3.07 | \n",
      "\n",
      "Topic Nr.3:\n",
      "行医 7.17 | 小孩 6.45 | 魔盒 4.88 | 细思 4.25 | 电影 4.15 | 评论 4.0 | 受害者 3.71 | 疯子 3.64 | 行医罪 3.3 | 人伦 3.24 | \n",
      "\n",
      "Topic Nr.4:\n",
      "婴儿 74.21 | 底线 7.0 | 成本 6.0 | 人类人类 2.96 | 婴儿人权 0.2 | 事结果 0.2 | 科技 0.2 | 基因 0.2 | 基因编辑意思 0.2 | 医生 0.2 | \n",
      "\n",
      "Topic Nr.5:\n",
      "基因编辑 9.03 | 科学家 7.16 | 啥意思 5.07 | 科幻片 5.03 | 国家 5.02 | 代价 4.68 | 科研底线 4.57 | 孩子父母 4.19 | 建议 3.21 | 能力 3.16 | \n"
     ]
    }
   ],
   "source": [
    "# 显示主题关键词函数\n",
    "def print_top_words(model, feature_names, n_top_words):\n",
    "    for topic_idx, topic in enumerate(model.components_):\n",
    "        print('\\nTopic Nr.%d:' % int(topic_idx + 1))\n",
    "        print(''.join([feature_names[i] + ' ' + str(round(topic[i], 2)) + ' | ' for i in topic.argsort()[:-n_top_words - 1:-1]]))\n",
    "n_top_words = 10 # 主题输出前20个关键词\n",
    "tf_feature_names = tf_vectorizer.get_feature_names()\n",
    "print_top_words(lda, tf_feature_names, n_top_words)\n",
    "\n",
    "\n"
   ]
  },
  {
   "cell_type": "code",
   "execution_count": null,
   "metadata": {
    "scrolled": true
   },
   "outputs": [
    {
     "name": "stdout",
     "output_type": "stream",
     "text": [
      "\n",
      "Note: if you're in the IPython notebook, pyLDAvis.show() is not the best command\n",
      "      to use. Consider using pyLDAvis.display(), or pyLDAvis.enable_notebook().\n",
      "      See more information at http://pyLDAvis.github.io/quickstart.html .\n",
      "\n",
      "You must interrupt the kernel to end this command\n",
      "\n",
      "Serving to http://127.0.0.1:8909/    [Ctrl-C to exit]\n"
     ]
    },
    {
     "name": "stderr",
     "output_type": "stream",
     "text": [
      "127.0.0.1 - - [30/Jun/2020 22:28:21] \"GET / HTTP/1.1\" 200 -\n",
      "127.0.0.1 - - [30/Jun/2020 22:28:21] \"GET /LDAvis.css HTTP/1.1\" 200 -\n",
      "127.0.0.1 - - [30/Jun/2020 22:28:21] \"GET /d3.js HTTP/1.1\" 200 -\n",
      "127.0.0.1 - - [30/Jun/2020 22:28:21] \"GET /LDAvis.js HTTP/1.1\" 200 -\n"
     ]
    }
   ],
   "source": [
    "import pyLDAvis\n",
    "import pyLDAvis.gensim\n",
    "\n",
    "data = pyLDAvis.sklearn.prepare(lda,tf,tf_vectorizer)\n",
    "\n",
    "#让可视化可以在notebook内显示\n",
    "pyLDAvis.show(data)\n"
   ]
  }
 ],
 "metadata": {
  "kernelspec": {
   "display_name": "Python 3",
   "language": "python",
   "name": "python3"
  },
  "language_info": {
   "codemirror_mode": {
    "name": "ipython",
    "version": 3
   },
   "file_extension": ".py",
   "mimetype": "text/x-python",
   "name": "python",
   "nbconvert_exporter": "python",
   "pygments_lexer": "ipython3",
   "version": "3.7.6"
  }
 },
 "nbformat": 4,
 "nbformat_minor": 4
}
