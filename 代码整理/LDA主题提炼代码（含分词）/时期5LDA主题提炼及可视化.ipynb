{
 "cells": [
  {
   "cell_type": "code",
   "execution_count": 1,
   "metadata": {},
   "outputs": [
    {
     "name": "stdout",
     "output_type": "stream",
     "text": [
      "                                content\n",
      "0                       医学伦理学他们是挂科了么？？！\n",
      "1                               三个婴儿怎么办\n",
      "2                                判的有点短啊\n",
      "3              基因编辑婴儿会怎么样……好可怕请保护好那三个孩子\n",
      "4  这么大的事，只由3个人就全部扛完了，处理结果真是出人意料，厉害厉害👍👍👍\n",
      "78\n"
     ]
    }
   ],
   "source": [
    "import pandas as pd\n",
    "import jieba\n",
    "from sklearn.feature_extraction.text import TfidfVectorizer,CountVectorizer\n",
    "from sklearn.decomposition import LatentDirichletAllocation\n",
    "import pyLDAvis\n",
    "import pyLDAvis.sklearn\n",
    "import re                                #正则表达式，可用于匹配中文文本\n",
    "import collections\n",
    "import matplotlib.pyplot as plt\n",
    "\n",
    "\n",
    "df = pd.read_csv(\"一级评论5.csv\", encoding='utf-8') \n",
    "\n",
    "\n",
    "print(df.head())\n",
    "print(len(df))\n",
    "\n"
   ]
  },
  {
   "cell_type": "code",
   "execution_count": 2,
   "metadata": {},
   "outputs": [
    {
     "name": "stdout",
     "output_type": "stream",
     "text": [
      "78\n"
     ]
    }
   ],
   "source": [
    "df = df.dropna() #去除空值所在的整条(行)数据\n",
    "print(len(df))"
   ]
  },
  {
   "cell_type": "code",
   "execution_count": 3,
   "metadata": {},
   "outputs": [],
   "source": [
    "# 创建停用词list\n",
    "def stopwordslist(filepath):\n",
    "    stopwords = [line.strip()for line in open(filepath,'r',encoding='utf-8').readlines()]\n",
    "    return stopwords\n"
   ]
  },
  {
   "cell_type": "code",
   "execution_count": 4,
   "metadata": {},
   "outputs": [],
   "source": [
    "# 对句子去除停用词\n",
    "def movestopwords(sentence):\n",
    "    stopwords = stopwordslist('scu_stopwords.txt')\n",
    "    outstr = ''\n",
    "    for word in sentence:\n",
    "        if word not in stopwords:\n",
    "            if word != '\\t':\n",
    "                outstr += word #outstr += \" \"\n",
    "    return outstr\n"
   ]
  },
  {
   "cell_type": "code",
   "execution_count": 5,
   "metadata": {},
   "outputs": [],
   "source": [
    "# 分词函数\n",
    "def chinese_word_cut(mytext):\n",
    "    import jieba.posseg as psg\n",
    "    checkarr = ['n']\n",
    "    returnmsg = \"\".join([(x.word) for x in psg.cut(mytext) if (x.flag in checkarr)])\n",
    "    return returnmsg\n",
    "\n"
   ]
  },
  {
   "cell_type": "code",
   "execution_count": 6,
   "metadata": {},
   "outputs": [
    {
     "name": "stderr",
     "output_type": "stream",
     "text": [
      "Building prefix dict from the default dictionary ...\n",
      "Loading model from cache C:\\Users\\ADMINI~1\\AppData\\Local\\Temp\\jieba.cache\n",
      "Loading model cost 0.768 seconds.\n",
      "Prefix dict has been built succesfully.\n"
     ]
    },
    {
     "name": "stdout",
     "output_type": "stream",
     "text": [
      "0           医学科\n",
      "1            婴儿\n",
      "2            有点\n",
      "3      基因编辑婴儿孩子\n",
      "4     事个人全部处理结果\n",
      "        ...    \n",
      "73        试验品孩子\n",
      "74             \n",
      "75         热心网友\n",
      "76         理想阴影\n",
      "77             \n",
      "Name: content, Length: 78, dtype: object\n"
     ]
    }
   ],
   "source": [
    " # 分词结果  \n",
    "df = df.content.apply(chinese_word_cut)\n",
    "ff = df.apply(movestopwords)\n",
    "print(ff) #预览\n"
   ]
  },
  {
   "cell_type": "code",
   "execution_count": 7,
   "metadata": {},
   "outputs": [
    {
     "name": "stdout",
     "output_type": "stream",
     "text": [
      "[('孩子', 8), ('婴儿', 4), ('有点', 2), ('医学科', 1), ('基因编辑婴儿孩子', 1), ('事个人全部处理结果', 1), ('孩子信息', 1), ('孩子国家世界', 1), ('医院', 1)]\n"
     ]
    }
   ],
   "source": [
    "word_counts = collections.Counter(ff) # 对分词做词频统计\n",
    "\n",
    "word_counts_top10 = word_counts.most_common(11) # 获取前11最高频的词\n",
    "\n",
    "word_counts_top10 = word_counts_top10[1:10]\n",
    "print (word_counts_top10) "
   ]
  },
  {
   "cell_type": "code",
   "execution_count": 8,
   "metadata": {},
   "outputs": [
    {
     "data": {
      "image/png": "[encoded data removed]",
      "text/plain": [
       "<Figure size 432x288 with 1 Axes>"
      ]
     },
     "metadata": {
      "needs_background": "light"
     },
     "output_type": "display_data"
    }
   ],
   "source": [
    "from pylab import *\n",
    "mpl.rcParams['font.sans-serif']=['SimHei']\n",
    "\n",
    "wa=dict(word_counts_top10)\n",
    "plt.bar(wa.keys(),wa.values())\n",
    "plt.xticks(rotation=90)\n",
    "plt.show()"
   ]
  },
  {
   "cell_type": "code",
   "execution_count": 9,
   "metadata": {},
   "outputs": [],
   "source": [
    "#从文件导入停用词表\n",
    "stpwrdpath = \"scu_stopwords.txt\"\n",
    "stpwrd_dic = open(stpwrdpath, 'rb')\n",
    "stpwrd_content = stpwrd_dic.read().decode('utf-8')#将停用词表转换为list\n",
    "stpwrdlst = stpwrd_content.splitlines()\n",
    "stpwrd_dic.close()\n",
    "\n"
   ]
  },
  {
   "cell_type": "code",
   "execution_count": 10,
   "metadata": {
    "scrolled": false
   },
   "outputs": [
    {
     "name": "stdout",
     "output_type": "stream",
     "text": [
      "  (0, 12)\t1\n",
      "  (1, 24)\t1\n",
      "  (2, 39)\t1\n",
      "  (3, 21)\t1\n",
      "  (4, 3)\t1\n",
      "  (5, 29)\t1\n",
      "  (6, 30)\t1\n",
      "  (7, 15)\t1\n",
      "  (8, 55)\t1\n",
      "  (9, 25)\t1\n",
      "  (10, 14)\t1\n",
      "  (11, 48)\t1\n",
      "  (12, 35)\t1\n",
      "  (13, 9)\t1\n",
      "  (14, 13)\t1\n",
      "  (15, 28)\t1\n",
      "  (16, 28)\t1\n",
      "  (18, 31)\t1\n",
      "  (19, 10)\t1\n",
      "  (20, 28)\t1\n",
      "  (21, 7)\t1\n",
      "  (22, 18)\t1\n",
      "  (23, 34)\t1\n",
      "  (24, 38)\t1\n",
      "  (25, 8)\t1\n",
      "  :\t:\n",
      "  (49, 47)\t1\n",
      "  (50, 39)\t1\n",
      "  (52, 28)\t1\n",
      "  (53, 4)\t1\n",
      "  (54, 52)\t1\n",
      "  (55, 46)\t1\n",
      "  (56, 32)\t1\n",
      "  (57, 24)\t1\n",
      "  (58, 17)\t1\n",
      "  (59, 24)\t1\n",
      "  (60, 28)\t1\n",
      "  (61, 33)\t1\n",
      "  (62, 50)\t1\n",
      "  (63, 51)\t1\n",
      "  (64, 11)\t1\n",
      "  (65, 36)\t1\n",
      "  (66, 23)\t1\n",
      "  (68, 37)\t1\n",
      "  (69, 24)\t1\n",
      "  (70, 28)\t1\n",
      "  (71, 5)\t1\n",
      "  (72, 6)\t1\n",
      "  (73, 53)\t1\n",
      "  (75, 42)\t1\n",
      "  (76, 43)\t1\n",
      "\n",
      "vocabulary list:\n",
      "\n",
      " ['下文', '世界', '事下文', '事个人全部处理结果', '事结果', '人员人员', '人类人伦事情良人', '人类基因艾滋病患者孩子基因孩子父母人类基因事', '人类基因问题人评论', '人类罪', '人类魔盒人类规则制度', '全人类敌', '医学科', '医生', '医者医生人医生害人', '医院', '发布会牢狱错孩子后果无辜孩子人权基因', '名婴儿', '基因人', '基因编辑专业人士读书事情', '基因编辑婴儿', '基因编辑婴儿孩子', '基因编辑婴儿行医有点刑法规定基因编辑人类罪名', '好孩子', '婴儿', '婴儿事', '婴儿婴儿编辑基因人类规律负面影响无法人类婴儿重点', '婴儿问题人', '孩子', '孩子信息', '孩子国家世界', '孩子大事技术人类', '悲剧', '感觉丧尸', '感觉事', '技术国家利益', '技术角度意义人类绝症现实新人类人月球现实意义人人动手蠢事', '方法科学方法人问题', '时间媒体', '有点', '步子蛋专家技术人孩子科学狂人', '法律社会技术有钱人渠道遗传基因富人科技穷人变异', '热心网友', '理想阴影', '畜牲人驱逐出境', '硬道理产物', '科学法律底线', '科学贡献', '科研', '编辑基因方向全世界基因人类事情概率', '老师理论区别学医', '行医实质量刑条件原告程度罪杀人法制', '警告', '试验品孩子', '超能力人', '魔盒']\n",
      "\n",
      "vocabulary dic :\n",
      "\n",
      " {'医学科': 12, '婴儿': 24, '有点': 39, '基因编辑婴儿孩子': 21, '事个人全部处理结果': 3, '孩子信息': 29, '孩子国家世界': 30, '医院': 15, '魔盒': 55, '婴儿事': 25, '医者医生人医生害人': 14, '科研': 48, '技术国家利益': 35, '人类罪': 9, '医生': 13, '孩子': 28, '孩子大事技术人类': 31, '人类魔盒人类规则制度': 10, '人类基因艾滋病患者孩子基因孩子父母人类基因事': 7, '基因人': 18, '感觉事': 34, '时间媒体': 38, '人类基因问题人评论': 8, '基因编辑专业人士读书事情': 19, '法律社会技术有钱人渠道遗传基因富人科技穷人变异': 41, '畜牲人驱逐出境': 44, '基因编辑婴儿': 20, '发布会牢狱错孩子后果无辜孩子人权基因': 16, '编辑基因方向全世界基因人类事情概率': 49, '步子蛋专家技术人孩子科学狂人': 40, '世界': 1, '下文': 0, '婴儿婴儿编辑基因人类规律负面影响无法人类婴儿重点': 26, '事下文': 2, '超能力人': 54, '硬道理产物': 45, '婴儿问题人': 27, '基因编辑婴儿行医有点刑法规定基因编辑人类罪名': 22, '科学贡献': 47, '事结果': 4, '警告': 52, '科学法律底线': 46, '悲剧': 32, '名婴儿': 17, '感觉丧尸': 33, '老师理论区别学医': 50, '行医实质量刑条件原告程度罪杀人法制': 51, '全人类敌': 11, '技术角度意义人类绝症现实新人类人月球现实意义人人动手蠢事': 36, '好孩子': 23, '方法科学方法人问题': 37, '人员人员': 5, '人类人伦事情良人': 6, '试验品孩子': 53, '热心网友': 42, '理想阴影': 43}\n"
     ]
    }
   ],
   "source": [
    "# 调用sklearn机器学习包进行向量化\n",
    "n_features = 1000 # 指定特征关键词提取最大值\n",
    "tf_vectorizer = CountVectorizer(strip_accents='unicode',# 去除raw document中的重音符号\n",
    "    max_features=n_features,#stop_words='english', # 停用词\n",
    "    stop_words=stpwrdlst,\n",
    "    max_df=0.5, # 阈值如果某个词的document frequence大于max_df，不当作关键词.float，词出现的次数与语料库文档数的百分比，int出现次数\n",
    "    min_df=1) # 如果某个词的document frequence小于min_df，则这个词不会被当作关键词\n",
    "\n",
    "\n",
    "tf = tf_vectorizer.fit_transform(df)\n",
    "print(tf)\n",
    "print('\\nvocabulary list:\\n\\n',tf_vectorizer.get_feature_names())\n",
    "print( '\\nvocabulary dic :\\n\\n',tf_vectorizer.vocabulary_)"
   ]
  },
  {
   "cell_type": "code",
   "execution_count": 11,
   "metadata": {},
   "outputs": [
    {
     "data": {
      "text/plain": [
       "LatentDirichletAllocation(batch_size=128, doc_topic_prior=None,\n",
       "                          evaluate_every=-1, learning_decay=0.7,\n",
       "                          learning_method='online', learning_offset=10.0,\n",
       "                          max_doc_update_iter=100, max_iter=50,\n",
       "                          mean_change_tol=0.001, n_components=5, n_jobs=None,\n",
       "                          perp_tol=0.1, random_state=0, topic_word_prior=None,\n",
       "                          total_samples=1000000.0, verbose=0)"
      ]
     },
     "execution_count": 11,
     "metadata": {},
     "output_type": "execute_result"
    }
   ],
   "source": [
    "# LDA操作\n",
    "n_topics = 5 # 人为指定划分的主题数\n",
    "lda = LatentDirichletAllocation(n_topics,learning_method='online',max_iter=50,random_state=0 )\n",
    "lda.fit(tf)\n"
   ]
  },
  {
   "cell_type": "code",
   "execution_count": 12,
   "metadata": {},
   "outputs": [
    {
     "name": "stdout",
     "output_type": "stream",
     "text": [
      "\n",
      "Topic Nr.1:\n",
      "医者医生人医生害人 1.2 | 事下文 1.2 | 下文 1.2 | 人类魔盒人类规则制度 1.2 | 发布会牢狱错孩子后果无辜孩子人权基因 1.2 | 名婴儿 1.2 | 基因编辑婴儿 1.2 | 基因编辑婴儿孩子 1.2 | 科研 1.2 | 硬道理产物 1.2 | \n",
      "\n",
      "Topic Nr.2:\n",
      "感觉丧尸 1.2 | 事结果 1.2 | 医院 1.2 | 婴儿问题人 1.2 | 魔盒 1.2 | 医生 1.2 | 时间媒体 1.2 | 人员人员 1.2 | 技术国家利益 1.2 | 人类罪 1.2 | \n",
      "\n",
      "Topic Nr.3:\n",
      "孩子 8.14 | 超能力人 1.2 | 科学贡献 1.2 | 热心网友 1.2 | 编辑基因方向全世界基因人类事情概率 1.2 | 行医实质量刑条件原告程度罪杀人法制 1.2 | 孩子信息 1.2 | 人类基因问题人评论 1.2 | 悲剧 1.2 | 婴儿事 1.2 | \n",
      "\n",
      "Topic Nr.4:\n",
      "婴儿婴儿编辑基因人类规律负面影响无法人类婴儿重点 1.2 | 全人类敌 1.2 | 步子蛋专家技术人孩子科学狂人 1.2 | 科学法律底线 1.2 | 基因编辑婴儿行医有点刑法规定基因编辑人类罪名 1.2 | 世界 1.2 | 理想阴影 1.2 | 技术角度意义人类绝症现实新人类人月球现实意义人人动手蠢事 1.2 | 超能力人 0.21 | 基因编辑婴儿孩子 0.21 | \n",
      "\n",
      "Topic Nr.5:\n",
      "婴儿 4.18 | 有点 2.19 | 老师理论区别学医 1.2 | 畜牲人驱逐出境 1.2 | 事个人全部处理结果 1.2 | 基因人 1.2 | 感觉事 1.2 | 孩子 0.22 | 医学科 0.21 | 医院 0.21 | \n"
     ]
    }
   ],
   "source": [
    "# 显示主题关键词函数\n",
    "def print_top_words(model, feature_names, n_top_words):\n",
    "    for topic_idx, topic in enumerate(model.components_):\n",
    "        print('\\nTopic Nr.%d:' % int(topic_idx + 1))\n",
    "        print(''.join([feature_names[i] + ' ' + str(round(topic[i], 2)) + ' | ' for i in topic.argsort()[:-n_top_words - 1:-1]]))\n",
    "n_top_words = 10 # 主题输出前20个关键词\n",
    "tf_feature_names = tf_vectorizer.get_feature_names()\n",
    "print_top_words(lda, tf_feature_names, n_top_words)\n",
    "\n",
    "\n"
   ]
  },
  {
   "cell_type": "code",
   "execution_count": null,
   "metadata": {
    "scrolled": true
   },
   "outputs": [
    {
     "name": "stdout",
     "output_type": "stream",
     "text": [
      "\n",
      "Note: if you're in the IPython notebook, pyLDAvis.show() is not the best command\n",
      "      to use. Consider using pyLDAvis.display(), or pyLDAvis.enable_notebook().\n",
      "      See more information at http://pyLDAvis.github.io/quickstart.html .\n",
      "\n",
      "You must interrupt the kernel to end this command\n",
      "\n",
      "Serving to http://127.0.0.1:8903/    [Ctrl-C to exit]\n"
     ]
    },
    {
     "name": "stderr",
     "output_type": "stream",
     "text": [
      "127.0.0.1 - - [30/Jun/2020 22:31:38] \"GET / HTTP/1.1\" 200 -\n",
      "127.0.0.1 - - [30/Jun/2020 22:31:38] \"GET /LDAvis.css HTTP/1.1\" 200 -\n",
      "127.0.0.1 - - [30/Jun/2020 22:31:38] \"GET /d3.js HTTP/1.1\" 200 -\n",
      "127.0.0.1 - - [30/Jun/2020 22:31:38] \"GET /LDAvis.js HTTP/1.1\" 200 -\n"
     ]
    }
   ],
   "source": [
    "import pyLDAvis\n",
    "import pyLDAvis.gensim\n",
    "\n",
    "data = pyLDAvis.sklearn.prepare(lda,tf,tf_vectorizer)\n",
    "\n",
    "#让可视化可以在notebook内显示\n",
    "pyLDAvis.show(data)\n"
   ]
  }
 ],
 "metadata": {
  "kernelspec": {
   "display_name": "Python 3",
   "language": "python",
   "name": "python3"
  },
  "language_info": {
   "codemirror_mode": {
    "name": "ipython",
    "version": 3
   },
   "file_extension": ".py",
   "mimetype": "text/x-python",
   "name": "python",
   "nbconvert_exporter": "python",
   "pygments_lexer": "ipython3",
   "version": "3.7.6"
  }
 },
 "nbformat": 4,
 "nbformat_minor": 4
}
