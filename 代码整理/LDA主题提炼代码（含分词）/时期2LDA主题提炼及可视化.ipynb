{
 "cells": [
  {
   "cell_type": "code",
   "execution_count": 1,
   "metadata": {},
   "outputs": [
    {
     "name": "stdout",
     "output_type": "stream",
     "text": [
      "                                             content\n",
      "0                                             闭嘴吧这人，\n",
      "1                   那么，你道德的底线在哪，两个活生生的生命拿来儿戏吗，拿来做实验？\n",
      "2                                     你再装？早上不是牛逼轰轰的？\n",
      "3                                      搞不好改基因生成新的遗传病\n",
      "4  霍金预测的超级人类魔盒打开了，富人通过改造变成超高智商，超抵抗力，下层永远被奴隶，别人不老不...\n",
      "1773\n"
     ]
    }
   ],
   "source": [
    "import pandas as pd\n",
    "import jieba\n",
    "from sklearn.feature_extraction.text import TfidfVectorizer,CountVectorizer\n",
    "from sklearn.decomposition import LatentDirichletAllocation\n",
    "import pyLDAvis\n",
    "import pyLDAvis.sklearn\n",
    "import re                                #正则表达式，可用于匹配中文文本\n",
    "import collections\n",
    "import matplotlib.pyplot as plt\n",
    "\n",
    "df = pd.read_csv(\"一级评论2.csv\", encoding='utf-8') \n",
    "\n",
    "\n",
    "print(df.head())\n",
    "print(len(df))\n",
    "\n"
   ]
  },
  {
   "cell_type": "code",
   "execution_count": 2,
   "metadata": {},
   "outputs": [
    {
     "name": "stdout",
     "output_type": "stream",
     "text": [
      "1773\n"
     ]
    }
   ],
   "source": [
    "df = df.dropna() #去除空值所在的整条(行)数据\n",
    "print(len(df))"
   ]
  },
  {
   "cell_type": "code",
   "execution_count": 3,
   "metadata": {},
   "outputs": [],
   "source": [
    "# 创建停用词list\n",
    "def stopwordslist(filepath):\n",
    "    stopwords = [line.strip()for line in open(filepath,'r',encoding='utf-8').readlines()]\n",
    "    return stopwords\n"
   ]
  },
  {
   "cell_type": "code",
   "execution_count": 4,
   "metadata": {},
   "outputs": [],
   "source": [
    "# 对句子去除停用词\n",
    "def movestopwords(sentence):\n",
    "    stopwords = stopwordslist('scu_stopwords.txt')\n",
    "    outstr = ''\n",
    "    for word in sentence:\n",
    "        if word not in stopwords:\n",
    "            if word != '\\t'and'\\n':\n",
    "                outstr += word # outstr += \" \"\n",
    "    return outstr\n"
   ]
  },
  {
   "cell_type": "code",
   "execution_count": 5,
   "metadata": {},
   "outputs": [],
   "source": [
    "# 分词函数\n",
    "def chinese_word_cut(mytext):\n",
    "    import jieba.posseg as psg\n",
    "    checkarr = ['n']\n",
    "    returnmsg = \"\".join([(x.word) for x in psg.cut(mytext) if (x.flag in checkarr)])\n",
    "    return returnmsg\n",
    "\n"
   ]
  },
  {
   "cell_type": "code",
   "execution_count": 6,
   "metadata": {
    "scrolled": true
   },
   "outputs": [
    {
     "name": "stderr",
     "output_type": "stream",
     "text": [
      "Building prefix dict from the default dictionary ...\n",
      "Loading model from cache C:\\Users\\ADMINI~1\\AppData\\Local\\Temp\\jieba.cache\n",
      "Loading model cost 0.851 seconds.\n",
      "Prefix dict has been built succesfully.\n"
     ]
    },
    {
     "name": "stdout",
     "output_type": "stream",
     "text": [
      "0                                             \n",
      "1                                      底线活生生儿戏\n",
      "2                                            牛\n",
      "3                                        基因遗传病\n",
      "4       人类魔盒富人智商抵抗力下层奴隶不病智力超群基因人科幻片人类超基因人类奴隶世界\n",
      "                         ...                  \n",
      "1768                                        底线\n",
      "1769                                          \n",
      "1770                                      卧槽大片\n",
      "1771                                        陽葵\n",
      "1772                            秘密办法人类人螃蟹结果双胞胎\n",
      "Name: content, Length: 1773, dtype: object\n"
     ]
    }
   ],
   "source": [
    "# 分词结果  \n",
    "df = df.content.apply(chinese_word_cut)\n",
    "ff = df.apply(movestopwords)\n",
    "ff = ff.dropna()\n",
    "\n",
    "print(ff) #预览"
   ]
  },
  {
   "cell_type": "code",
   "execution_count": 7,
   "metadata": {},
   "outputs": [
    {
     "name": "stdout",
     "output_type": "stream",
     "text": [
      "[('人', 47), ('人类', 15), ('孩子', 10), ('底线', 9), ('口语', 8), ('感觉', 7), ('事', 6), ('事情', 5), ('上帝', 5)]\n"
     ]
    }
   ],
   "source": [
    "word_counts = collections.Counter(ff) # 对分词做词频统计\n",
    "\n",
    "word_counts_top10 = word_counts.most_common(11) # 获取前11最高频的词\n",
    "\n",
    "word_counts_top10 = word_counts_top10[1:10]\n",
    "print (word_counts_top10) "
   ]
  },
  {
   "cell_type": "code",
   "execution_count": 8,
   "metadata": {},
   "outputs": [
    {
     "data": {
      "image/png": "[encoded data removed]",
      "text/plain": [
       "<Figure size 432x288 with 1 Axes>"
      ]
     },
     "metadata": {
      "needs_background": "light"
     },
     "output_type": "display_data"
    }
   ],
   "source": [
    "from pylab import *\n",
    "mpl.rcParams['font.sans-serif']=['SimHei']\n",
    "\n",
    "wa=dict(word_counts_top10)\n",
    "plt.bar(wa.keys(),wa.values())\n",
    "plt.xticks(rotation=90)\n",
    "plt.show()"
   ]
  },
  {
   "cell_type": "code",
   "execution_count": 9,
   "metadata": {},
   "outputs": [],
   "source": [
    "#从文件导入停用词表\n",
    "stpwrdpath = \"scu_stopwords.txt\"\n",
    "stpwrd_dic = open(stpwrdpath, 'rb')\n",
    "stpwrd_content = stpwrd_dic.read().decode('utf-8')#将停用词表转换为list\n",
    "stpwrdlst = stpwrd_content.splitlines()\n",
    "stpwrd_dic.close()\n",
    "\n"
   ]
  },
  {
   "cell_type": "code",
   "execution_count": 10,
   "metadata": {
    "scrolled": false
   },
   "outputs": [
    {
     "name": "stdout",
     "output_type": "stream",
     "text": [
      "  (17, 2)\t1\n",
      "  (22, 0)\t1\n",
      "  (58, 16)\t1\n",
      "  (59, 16)\t1\n",
      "  (97, 23)\t1\n",
      "  (107, 12)\t1\n",
      "  (118, 0)\t1\n",
      "  (135, 7)\t1\n",
      "  (160, 19)\t1\n",
      "  (163, 3)\t1\n",
      "  (173, 3)\t1\n",
      "  (179, 24)\t1\n",
      "  (184, 23)\t1\n",
      "  (185, 21)\t1\n",
      "  (187, 21)\t1\n",
      "  (188, 22)\t1\n",
      "  (192, 3)\t1\n",
      "  (209, 11)\t1\n",
      "  (211, 3)\t1\n",
      "  (297, 10)\t1\n",
      "  (299, 9)\t1\n",
      "  (303, 9)\t1\n",
      "  (307, 10)\t1\n",
      "  (312, 6)\t1\n",
      "  (314, 9)\t1\n",
      "  :\t:\n",
      "  (1480, 25)\t1\n",
      "  (1498, 16)\t1\n",
      "  (1504, 4)\t1\n",
      "  (1514, 14)\t1\n",
      "  (1523, 3)\t1\n",
      "  (1526, 24)\t1\n",
      "  (1530, 7)\t1\n",
      "  (1540, 17)\t1\n",
      "  (1563, 7)\t1\n",
      "  (1587, 13)\t1\n",
      "  (1589, 5)\t1\n",
      "  (1614, 2)\t1\n",
      "  (1639, 7)\t1\n",
      "  (1642, 6)\t1\n",
      "  (1671, 11)\t1\n",
      "  (1685, 12)\t1\n",
      "  (1697, 11)\t1\n",
      "  (1702, 0)\t1\n",
      "  (1712, 2)\t1\n",
      "  (1719, 25)\t1\n",
      "  (1735, 25)\t1\n",
      "  (1755, 11)\t1\n",
      "  (1756, 17)\t1\n",
      "  (1764, 24)\t1\n",
      "  (1768, 11)\t1\n",
      "\n",
      "vocabulary list:\n",
      "\n",
      " ['上帝', '世界', '事情', '人类', '历史', '口语', '字幕', '孩子', '孩子人', '家伙天才前者', '小孩孩子孩子人基因人类乱套有钱人孩子基因小孩孩子人类物种', '底线', '感觉', '技术', '有点', '毒液', '疯子', '疾病', '科学家', '科技', '细思', '视频', '评论', '遗传病', '间谍', '魔盒']\n",
      "\n",
      "vocabulary dic :\n",
      "\n",
      " {'事情': 2, '上帝': 0, '疯子': 16, '遗传病': 23, '感觉': 12, '孩子': 7, '科技': 19, '人类': 3, '间谍': 24, '视频': 21, '评论': 22, '底线': 11, '小孩孩子孩子人基因人类乱套有钱人孩子基因小孩孩子人类物种': 10, '家伙天才前者': 9, '字幕': 6, '孩子人': 8, '口语': 5, '科学家': 18, '有点': 14, '毒液': 15, '世界': 1, '细思': 20, '技术': 13, '历史': 4, '疾病': 17, '魔盒': 25}\n"
     ]
    }
   ],
   "source": [
    "# 调用sklearn机器学习包进行向量化\n",
    "n_features = 1000 # 指定特征关键词提取最大值\n",
    "tf_vectorizer = CountVectorizer(strip_accents='unicode',# 去除raw document中的重音符号\n",
    "    max_features=n_features,#stop_words='english', # 停用词\n",
    "    stop_words=stpwrdlst,\n",
    "    max_df=0.5, # 阈值如果某个词的document frequence大于max_df，不当作关键词.float，词出现的次数与语料库文档数的百分比，int出现次数\n",
    "    min_df=3) # 如果某个词的document frequence小于min_df，则这个词不会被当作关键词\n",
    "\n",
    "\n",
    "tf = tf_vectorizer.fit_transform(df)\n",
    "print(tf)\n",
    "print('\\nvocabulary list:\\n\\n',tf_vectorizer.get_feature_names())\n",
    "print( '\\nvocabulary dic :\\n\\n',tf_vectorizer.vocabulary_)"
   ]
  },
  {
   "cell_type": "code",
   "execution_count": 11,
   "metadata": {},
   "outputs": [
    {
     "data": {
      "text/plain": [
       "LatentDirichletAllocation(batch_size=128, doc_topic_prior=None,\n",
       "                          evaluate_every=-1, learning_decay=0.7,\n",
       "                          learning_method='online', learning_offset=10.0,\n",
       "                          max_doc_update_iter=100, max_iter=50,\n",
       "                          mean_change_tol=0.001, n_components=5, n_jobs=None,\n",
       "                          perp_tol=0.1, random_state=0, topic_word_prior=None,\n",
       "                          total_samples=1000000.0, verbose=0)"
      ]
     },
     "execution_count": 11,
     "metadata": {},
     "output_type": "execute_result"
    }
   ],
   "source": [
    "# LDA操作\n",
    "n_topics = 5 # 人为指定划分的主题数\n",
    "lda = LatentDirichletAllocation(n_topics,learning_method='online',max_iter=50,random_state=0 )\n",
    "lda.fit(tf)\n"
   ]
  },
  {
   "cell_type": "code",
   "execution_count": 12,
   "metadata": {},
   "outputs": [
    {
     "name": "stdout",
     "output_type": "stream",
     "text": [
      "\n",
      "Topic Nr.1:\n",
      "事情 5.43 | 上帝 5.32 | 有点 5.22 | 历史 4.2 | 疯子 4.11 | 疾病 3.49 | 小孩孩子孩子人基因人类乱套有钱人孩子基因小孩孩子人类物种 3.03 | 细思 0.2 | 字幕 0.2 | 孩子 0.2 | \n",
      "\n",
      "Topic Nr.2:\n",
      "口语 8.05 | 感觉 7.33 | 评论 5.07 | 毒液 4.16 | 科学家 4.09 | 细思 0.2 | 字幕 0.2 | 小孩孩子孩子人基因人类乱套有钱人孩子基因小孩孩子人类物种 0.2 | 疾病 0.2 | 孩子 0.2 | \n",
      "\n",
      "Topic Nr.3:\n",
      "遗传病 3.99 | 魔盒 3.71 | 孩子人 3.1 | 科技 3.06 | 家伙天才前者 3.03 | 视频 3.02 | 细思 0.2 | 疾病 0.2 | 字幕 0.2 | 小孩孩子孩子人基因人类乱套有钱人孩子基因小孩孩子人类物种 0.2 | \n",
      "\n",
      "Topic Nr.4:\n",
      "底线 10.14 | 技术 5.28 | 间谍 4.37 | 世界 3.17 | 细思 0.2 | 疾病 0.2 | 字幕 0.2 | 小孩孩子孩子人基因人类乱套有钱人孩子基因小孩孩子人类物种 0.2 | 孩子 0.2 | 历史 0.2 | \n",
      "\n",
      "Topic Nr.5:\n",
      "人类 14.92 | 孩子 10.22 | 字幕 4.13 | 细思 3.23 | 疾病 0.2 | 小孩孩子孩子人基因人类乱套有钱人孩子基因小孩孩子人类物种 0.2 | 历史 0.2 | 疯子 0.2 | 有点 0.2 | 事情 0.2 | \n"
     ]
    }
   ],
   "source": [
    "# 显示主题关键词函数\n",
    "def print_top_words(model, feature_names, n_top_words):\n",
    "    for topic_idx, topic in enumerate(model.components_):\n",
    "        print('\\nTopic Nr.%d:' % int(topic_idx + 1))\n",
    "        print(''.join([feature_names[i] + ' ' + str(round(topic[i], 2)) + ' | ' for i in topic.argsort()[:-n_top_words - 1:-1]]))\n",
    "n_top_words = 10 # 主题输出前20个关键词\n",
    "tf_feature_names = tf_vectorizer.get_feature_names()\n",
    "print_top_words(lda, tf_feature_names, n_top_words)\n",
    "\n",
    "\n"
   ]
  },
  {
   "cell_type": "code",
   "execution_count": null,
   "metadata": {
    "scrolled": true
   },
   "outputs": [
    {
     "name": "stdout",
     "output_type": "stream",
     "text": [
      "\n",
      "Note: if you're in the IPython notebook, pyLDAvis.show() is not the best command\n",
      "      to use. Consider using pyLDAvis.display(), or pyLDAvis.enable_notebook().\n",
      "      See more information at http://pyLDAvis.github.io/quickstart.html .\n",
      "\n",
      "You must interrupt the kernel to end this command\n",
      "\n",
      "Serving to http://127.0.0.1:8891/    [Ctrl-C to exit]\n"
     ]
    },
    {
     "name": "stderr",
     "output_type": "stream",
     "text": [
      "127.0.0.1 - - [30/Jun/2020 22:10:45] \"GET / HTTP/1.1\" 200 -\n",
      "127.0.0.1 - - [30/Jun/2020 22:10:45] \"GET /LDAvis.css HTTP/1.1\" 200 -\n",
      "127.0.0.1 - - [30/Jun/2020 22:10:45] \"GET /d3.js HTTP/1.1\" 200 -\n",
      "127.0.0.1 - - [30/Jun/2020 22:10:45] \"GET /LDAvis.js HTTP/1.1\" 200 -\n"
     ]
    }
   ],
   "source": [
    "import pyLDAvis\n",
    "import pyLDAvis.gensim\n",
    "\n",
    "data = pyLDAvis.sklearn.prepare(lda,tf,tf_vectorizer)\n",
    "\n",
    "#让可视化可以在notebook内显示\n",
    "pyLDAvis.show(data)\n"
   ]
  },
  {
   "cell_type": "code",
   "execution_count": null,
   "metadata": {},
   "outputs": [],
   "source": []
  }
 ],
 "metadata": {
  "kernelspec": {
   "display_name": "Python 3",
   "language": "python",
   "name": "python3"
  },
  "language_info": {
   "codemirror_mode": {
    "name": "ipython",
    "version": 3
   },
   "file_extension": ".py",
   "mimetype": "text/x-python",
   "name": "python",
   "nbconvert_exporter": "python",
   "pygments_lexer": "ipython3",
   "version": "3.7.6"
  }
 },
 "nbformat": 4,
 "nbformat_minor": 4
}
