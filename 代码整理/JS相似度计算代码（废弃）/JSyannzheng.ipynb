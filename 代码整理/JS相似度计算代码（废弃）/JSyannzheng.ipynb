{
 "cells": [
  {
   "cell_type": "code",
   "execution_count": 1,
   "metadata": {},
   "outputs": [
    {
     "name": "stderr",
     "output_type": "stream",
     "text": [
      "INFO:lda:n_documents: 6\n",
      "INFO:lda:vocab_size: 226\n",
      "INFO:lda:n_words: 301\n",
      "INFO:lda:n_topics: 5\n",
      "INFO:lda:n_iter: 100\n",
      "INFO:lda:<0> log likelihood: -2811\n",
      "INFO:lda:<10> log likelihood: -2445\n",
      "INFO:lda:<20> log likelihood: -2441\n",
      "INFO:lda:<30> log likelihood: -2419\n",
      "INFO:lda:<40> log likelihood: -2436\n",
      "INFO:lda:<50> log likelihood: -2427\n"
     ]
    },
    {
     "name": "stdout",
     "output_type": "stream",
     "text": [
      "  (0, 9)\t1\n",
      "  (0, 12)\t1\n",
      "  (0, 13)\t1\n",
      "  (0, 14)\t1\n",
      "  (0, 18)\t1\n",
      "  (0, 19)\t1\n",
      "  (0, 20)\t1\n",
      "  (0, 22)\t1\n",
      "  (0, 24)\t1\n",
      "  (0, 28)\t1\n",
      "  (0, 42)\t1\n",
      "  (0, 46)\t1\n",
      "  (0, 53)\t1\n",
      "  (0, 58)\t1\n",
      "  (0, 70)\t1\n",
      "  (0, 72)\t1\n",
      "  (0, 91)\t1\n",
      "  (0, 94)\t1\n",
      "  (0, 108)\t1\n",
      "  (0, 117)\t1\n",
      "  (0, 122)\t1\n",
      "  (0, 123)\t1\n",
      "  (0, 130)\t1\n",
      "  (0, 137)\t1\n",
      "  (0, 143)\t1\n",
      "  :\t:\n",
      "  (5, 132)\t1\n",
      "  (5, 140)\t1\n",
      "  (5, 141)\t1\n",
      "  (5, 146)\t1\n",
      "  (5, 148)\t1\n",
      "  (5, 150)\t1\n",
      "  (5, 162)\t1\n",
      "  (5, 165)\t1\n",
      "  (5, 170)\t1\n",
      "  (5, 173)\t1\n",
      "  (5, 178)\t1\n",
      "  (5, 183)\t1\n",
      "  (5, 186)\t1\n",
      "  (5, 188)\t1\n",
      "  (5, 189)\t1\n",
      "  (5, 191)\t1\n",
      "  (5, 193)\t1\n",
      "  (5, 196)\t1\n",
      "  (5, 199)\t1\n",
      "  (5, 200)\t1\n",
      "  (5, 201)\t1\n",
      "  (5, 202)\t1\n",
      "  (5, 203)\t1\n",
      "  (5, 205)\t1\n",
      "  (5, 210)\t1\n"
     ]
    },
    {
     "name": "stderr",
     "output_type": "stream",
     "text": [
      "INFO:lda:<60> log likelihood: -2417\n",
      "INFO:lda:<70> log likelihood: -2422\n",
      "INFO:lda:<80> log likelihood: -2413\n",
      "INFO:lda:<90> log likelihood: -2429\n",
      "INFO:lda:<99> log likelihood: -2439\n"
     ]
    }
   ],
   "source": [
    "# -*- coding: utf-8 -*-\n",
    "import numpy as np\n",
    "import numpy \n",
    "from sklearn.feature_extraction.text import CountVectorizer\n",
    "import lda\n",
    "import lda.datasets\n",
    "if __name__ == \"__main__\":\n",
    "   #存储读取语料 一行预料为一个文档 \n",
    "    corpus = []\n",
    "    for line in open('6BP.txt', 'r',encoding='utf-8').readlines():\n",
    "        #print line\n",
    "        corpus.append(line.strip())\n",
    "    #print corpus\n",
    "\n",
    "    #将文本中的词语转换为词频矩阵 矩阵元素a[i][j] 表示j词在i类文本下的词频\n",
    "    vectorizer = CountVectorizer()\n",
    "    x = vectorizer.fit_transform(corpus)\n",
    "    print(x)\n",
    "    analyze = vectorizer.build_analyzer()\n",
    "    weight = x.toarray()\n",
    "\n",
    "model = lda.LDA(n_topics=5, n_iter=100,random_state=1)\n",
    "model.fit(np.asarray(weight))     # model.fit_transform(X) is also available\n",
    "topic_word = model.topic_word_    # model.components_ also works\n",
    "#文档-主题（Document-Topic）分布\n",
    "doc_topic = model.doc_topic_\n",
    "a=doc_topic\n",
    "numpy.savetxt('C:\\\\Users\\\\Administrator\\\\100.csv', a, delimiter = ',') #将得到的文档-主题分布保存"
   ]
  },
  {
   "cell_type": "code",
   "execution_count": 2,
   "metadata": {},
   "outputs": [
    {
     "name": "stdout",
     "output_type": "stream",
     "text": [
      "0\n",
      "1\n",
      "2\n",
      "3\n",
      "4\n",
      "5\n",
      "6\n",
      "7\n",
      "8\n",
      "9\n",
      "10\n"
     ]
    }
   ],
   "source": [
    "import math\n",
    "def KLD(P,Q):\n",
    "    return sum(p* math.log(p/q) for (p,q) in zip(P,Q))\n",
    "\n",
    "def JSD_core(P,Q):\n",
    "    M = [0.5*(p+q) for (p,q) in zip(P,Q)]\n",
    "    return 0.5*KLD(P,M)+0.5*KLD(Q,M)\n",
    "\n",
    "my_matrix = numpy.loadtxt(open(\"C:\\\\Users\\\\Administrator\\\\6-5.csv\",\"rb\"),delimiter=\",\",skiprows=0)\n",
    "a=my_matrix\n",
    "\n",
    "\n",
    "\n",
    "list1=[]\n",
    "for i in range(11):\n",
    "    list2=[]\n",
    "    for j in range(11):\n",
    "        list2.append(JSD_core(a[i],a[j]))    \n",
    "    list1.append(list2)\n",
    "    print(i)  \n",
    "\n",
    "f=open('C:\\\\Users\\\\Administrator\\\\100js.txt','w')\n",
    "for i in list1:\n",
    "    k=' '.join([str(j) for j in i])\n",
    "    f.write(k+\"\\n\")\n",
    "f.close()\n"
   ]
  },
  {
   "cell_type": "code",
   "execution_count": null,
   "metadata": {},
   "outputs": [],
   "source": []
  }
 ],
 "metadata": {
  "kernelspec": {
   "display_name": "Python 3",
   "language": "python",
   "name": "python3"
  },
  "language_info": {
   "codemirror_mode": {
    "name": "ipython",
    "version": 3
   },
   "file_extension": ".py",
   "mimetype": "text/x-python",
   "name": "python",
   "nbconvert_exporter": "python",
   "pygments_lexer": "ipython3",
   "version": "3.7.6"
  }
 },
 "nbformat": 4,
 "nbformat_minor": 4
}
